{
 "cells": [
  {
   "cell_type": "code",
   "execution_count": 549,
   "id": "b50aa566",
   "metadata": {},
   "outputs": [],
   "source": [
    "import os\n",
    "import sqlite3\n",
    "import scipy.stats as stats\n",
    "import pandas as pd\n",
    "import numpy as np\n",
    "from zipfile import ZipFile\n",
    "from matplotlib import pyplot as plt"
   ]
  },
  {
   "cell_type": "code",
   "execution_count": 550,
   "id": "5680cb54",
   "metadata": {},
   "outputs": [],
   "source": [
    "BASE_DIR = os.path.abspath(os.path.join(os.getcwd(), '..'))\n",
    "ZIPPED_DATA_DIR = os.path.join(BASE_DIR, \"zippedData\")"
   ]
  },
  {
   "cell_type": "code",
   "execution_count": 551,
   "id": "a4f33435",
   "metadata": {},
   "outputs": [],
   "source": [
    "dfs = {}\n",
    "\n",
    "sql_db_file = \"im.db\"\n",
    "movie_info_q = \"\"\"\n",
    "        SELECT * FROM principals\n",
    "        JOIN movie_ratings USING(movie_id)\n",
    "        JOIN movie_akas USING(movie_id)\n",
    "        ;\"\"\"\n",
    "movie_people_q = \"\"\"\n",
    "        SELECT *\n",
    "        FROM principals\n",
    "        JOIN persons USING(person_id)\n",
    "        ;\"\"\"\n",
    "\n",
    "with ZipFile(os.path.join(ZIPPED_DATA_DIR, f\"{sql_db_file}.zip\"), 'r') as zip:\n",
    "    zip.extract(sql_db_file)\n",
    "\n",
    "    conn = sqlite3.connect(sql_db_file)\n",
    "    \n",
    "    dfs[\"movie_info_df\"] = pd.read_sql(movie_info_q, conn)\n",
    "    dfs[\"movie_people_df\"] = pd.read_sql(movie_people_q, conn)\n",
    "\n",
    "    os.remove(sql_db_file)\n",
    "\n",
    "\n",
    "for file_name in os.listdir(ZIPPED_DATA_DIR):\n",
    "    if not file_name in [sql_db_file + \".zip\", \".DS_Store\"]:\n",
    "        sep = \"\\t\" if \"tsv\" in file_name else \",\"\n",
    "        try:\n",
    "            dfs[file_name.split(\".\")[-3]] = pd.read_csv(os.path.join(ZIPPED_DATA_DIR, file_name), sep=sep, encoding=\"unicode_escape\")\n",
    "        except Exception as e:\n",
    "            print(e, file_name)"
   ]
  },
  {
   "cell_type": "code",
   "execution_count": 552,
   "id": "8d582972",
   "metadata": {},
   "outputs": [
    {
     "name": "stdout",
     "output_type": "stream",
     "text": [
      "movie_info_df\n",
      "Index(['movie_id', 'ordering', 'person_id', 'category', 'job', 'characters',\n",
      "       'averagerating', 'numvotes', 'ordering', 'title', 'region', 'language',\n",
      "       'types', 'attributes', 'is_original_title'],\n",
      "      dtype='object')\n",
      "\n",
      "\n",
      "movie_people_df\n",
      "Index(['movie_id', 'ordering', 'person_id', 'category', 'job', 'characters',\n",
      "       'primary_name', 'birth_year', 'death_year', 'primary_profession'],\n",
      "      dtype='object')\n",
      "\n",
      "\n",
      "movies\n",
      "Index(['Unnamed: 0', 'genre_ids', 'id', 'original_language', 'original_title',\n",
      "       'popularity', 'release_date', 'title', 'vote_average', 'vote_count'],\n",
      "      dtype='object')\n",
      "\n",
      "\n",
      "reviews\n",
      "Index(['id', 'review', 'rating', 'fresh', 'critic', 'top_critic', 'publisher',\n",
      "       'date'],\n",
      "      dtype='object')\n",
      "\n",
      "\n",
      "movie_info\n",
      "Index(['id', 'synopsis', 'rating', 'genre', 'director', 'writer',\n",
      "       'theater_date', 'dvd_date', 'currency', 'box_office', 'runtime',\n",
      "       'studio'],\n",
      "      dtype='object')\n",
      "\n",
      "\n",
      "movie_budgets\n",
      "Index(['id', 'release_date', 'movie', 'production_budget', 'domestic_gross',\n",
      "       'worldwide_gross'],\n",
      "      dtype='object')\n",
      "\n",
      "\n",
      "movie_gross\n",
      "Index(['title', 'studio', 'domestic_gross', 'foreign_gross', 'year'], dtype='object')\n",
      "\n",
      "\n"
     ]
    }
   ],
   "source": [
    "for df in dfs:\n",
    "    print(df)\n",
    "    print(dfs.get(df).columns)\n",
    "    print(\"\\n\")"
   ]
  },
  {
   "cell_type": "code",
   "execution_count": 553,
   "id": "d6e40c86",
   "metadata": {},
   "outputs": [],
   "source": [
    "budget_df = dfs.get(\"movie_budgets\").replace('[\\$,]', '', regex=True).apply(pd.to_numeric, errors=\"ignore\")\n",
    "budget_df = budget_df[budget_df[\"production_budget\"] > 5000000].replace(0, np.nan).dropna()\n",
    "budget_df[\"domestic_ROI\"] = (budget_df[\"domestic_gross\"] - budget_df[\"production_budget\"]) / budget_df[\"production_budget\"]\n",
    "budget_df[\"worldwide_ROI\"] = (budget_df[\"worldwide_gross\"] - budget_df[\"production_budget\"]) / budget_df[\"production_budget\"]\n",
    "\n",
    "dfs[\"movie_budgets\"] = budget_df"
   ]
  },
  {
   "cell_type": "code",
   "execution_count": 554,
   "id": "a81cde0b",
   "metadata": {},
   "outputs": [
    {
     "name": "stderr",
     "output_type": "stream",
     "text": [
      "/var/folders/cp/k4r1_sbx687dqn2rzgz3t7n40000gn/T/ipykernel_7854/2883756889.py:15: UserWarning: Boolean Series key will be reindexed to match DataFrame index.\n",
      "  money_and_info_df = money_and_info_df[money_and_info_df[\"worldwide_ROI\"] < Q3 + 1.5 * IQR][money_and_info_df[\"worldwide_ROI\"] > Q1 - 1.5 * IQR]\n"
     ]
    }
   ],
   "source": [
    "\n",
    "money_and_info_df = dfs.get(\"movie_budgets\").join(dfs.get(\"movie_info\"), on=\"id\", how=\"inner\", lsuffix=\"_budget\")\n",
    "money_and_info_df.sort_values(\"worldwide_ROI\", ascending=False, inplace=True)\n",
    "money_and_info_df[[\"theater_date\", \"dvd_date\"]] = money_and_info_df[[\"theater_date\", \"dvd_date\"]].apply(pd.to_datetime, errors=\"ignore\", infer_datetime_format=True)\n",
    "money_and_info_df.head()\n",
    "# money_and_info_df[\"WW_ROI_Cat\"] = pd.cut(money_and_info_df.worldwide_ROI, bins=5, labels=False)\n",
    "# plt.hist(money_and_info_df.WW_ROI_Cat)\n",
    "\n",
    "# REMOVE OUTLIERS ———————————————————————————\n",
    "ww_ROI = money_and_info_df[\"worldwide_ROI\"]\n",
    "Q1 = money_and_info_df[\"worldwide_ROI\"].quantile(0.25)\n",
    "Q3 = money_and_info_df[\"worldwide_ROI\"].quantile(0.75)\n",
    "IQR = Q3 - Q1\n",
    "\n",
    "best_df = money_and_info_df[money_and_info_df.worldwide_ROI > Q3 + 1.5 * IQR]\n",
    "money_and_info_df = money_and_info_df[money_and_info_df[\"worldwide_ROI\"] < Q3 + 1.5 * IQR][money_and_info_df[\"worldwide_ROI\"] > Q1 - 1.5 * IQR]"
   ]
  },
  {
   "cell_type": "code",
   "execution_count": 555,
   "id": "98a2ab71",
   "metadata": {},
   "outputs": [
    {
     "name": "stdout",
     "output_type": "stream",
     "text": [
      "                 worldwide_ROI\n",
      "writer                        \n",
      "Wendell Mayes         1.529053\n",
      "Jan Sardi             1.497769\n",
      "Lawrence Kasdan       1.495098\n",
      "Ken Englund           1.454209\n",
      "Eric Bogosian         1.421871 \n",
      "                    worldwide_ROI\n",
      "director                        \n",
      "Otto Preminger          1.529053\n",
      "Bruce Beresford         1.497769\n",
      "Steven Spielberg        1.495098\n",
      "Herbert Wilcox          1.454209\n",
      "Richard Linklater       1.421871\n"
     ]
    }
   ],
   "source": [
    "best_writers = money_and_info_df[[\"writer\", \"worldwide_ROI\"]][money_and_info_df[\"writer\"].str.contains(\"\\|\")==False].groupby(\"writer\").median().sort_values(\"worldwide_ROI\", ascending=False)\n",
    "\n",
    "best_directors = money_and_info_df[[\"director\", \"worldwide_ROI\"]].groupby(\"director\").median().sort_values(\"worldwide_ROI\", ascending=False)\n",
    "\n",
    "print(best_writers[:5], \"\\n\",  best_directors[:5])"
   ]
  },
  {
   "cell_type": "code",
   "execution_count": 568,
   "id": "de7007d7",
   "metadata": {},
   "outputs": [
    {
     "name": "stdout",
     "output_type": "stream",
     "text": [
      "SpearmanrResult(correlation=0.8409983414646023, pvalue=0.0)\n",
      "SpearmanrResult(correlation=0.1765349117966718, pvalue=7.87316434617963e-28)\n"
     ]
    },
    {
     "data": {
      "text/plain": [
       "Text(0, 0.5, 'Worldwide ROI')"
      ]
     },
     "execution_count": 568,
     "metadata": {},
     "output_type": "execute_result"
    },
    {
     "data": {
      "image/png": "[encoded data removed]",
      "text/plain": [
       "<Figure size 640x480 with 2 Axes>"
      ]
     },
     "metadata": {},
     "output_type": "display_data"
    }
   ],
   "source": [
    "fig, (ax1, ax2) = plt.subplots(2, tight_layout=True)\n",
    "\n",
    "print(stats.spearmanr(money_and_info_df.domestic_ROI, money_and_info_df.worldwide_ROI))\n",
    "ax1.scatter(money_and_info_df.domestic_ROI, money_and_info_df.worldwide_ROI)\n",
    "ax1.set_title(\"Dom vs World ROI\")\n",
    "ax1.set_xlabel(\"Domestic ROI\")\n",
    "ax1.set_ylabel(\"Worldwide ROI\")\n",
    "\n",
    "print(stats.spearmanr(money_and_info_df.production_budget, money_and_info_df.worldwide_ROI))\n",
    "ax2.scatter(money_and_info_df.production_budget, money_and_info_df.worldwide_ROI)\n",
    "ax2.set_title(\"Budget vs WWROI\")\n",
    "ax2.set_xlabel(\"Production Budget\")\n",
    "ax2.set_ylabel(\"Worldwide ROI\")"
   ]
  },
  {
   "cell_type": "code",
   "execution_count": 567,
   "metadata": {},
   "outputs": [
    {
     "data": {
      "text/plain": [
       "SpearmanrResult(correlation=0.01743417838510342, pvalue=0.3699240815132149)"
      ]
     },
     "execution_count": 567,
     "metadata": {},
     "output_type": "execute_result"
    },
    {
     "data": {
      "image/png": "[encoded data removed]",
      "text/plain": [
       "<Figure size 640x480 with 1 Axes>"
      ]
     },
     "metadata": {},
     "output_type": "display_data"
    }
   ],
   "source": [
    "from datetime import timedelta\n",
    "\n",
    "date_ROI = money_and_info_df[[\"worldwide_ROI\", \"theater_date\", \"dvd_date\"]]\n",
    "date_ROI = date_ROI.dropna()\n",
    "date_ROI[\"time_to_dvd\"] = (date_ROI.dvd_date - date_ROI.theater_date).apply(timedelta.total_seconds)\n",
    "\n",
    "fig, ax = plt.subplots(tight_layout=True)\n",
    "ax.scatter(date_ROI.time_to_dvd, date_ROI.worldwide_ROI)\n",
    "ax.set_xlabel(\"Time to DVD\")\n",
    "ax.set_ylabel(\"ROI\")\n",
    "stats.spearmanr(date_ROI.time_to_dvd, date_ROI.worldwide_ROI)"
   ]
  },
  {
   "cell_type": "code",
   "execution_count": 558,
   "id": "c2e108b6",
   "metadata": {},
   "outputs": [],
   "source": [
    "def get_genre_df(from_df) -> pd.DataFrame:\n",
    "    _genres_df = pd.DataFrame()\n",
    "\n",
    "    for idx, row in from_df[[\"genre\", \"worldwide_ROI\"]].dropna().iterrows():\n",
    "        if \"|\" in row.genre:\n",
    "            genres = row.genre.split(\"|\")\n",
    "        else:\n",
    "            genres = [row.genre]\n",
    "\n",
    "        for genre in genres:\n",
    "            new_row = row\n",
    "            new_row.genre = genre\n",
    "            new_row = pd.DataFrame(new_row).transpose()\n",
    "            \n",
    "            _genres_df = pd.concat([_genres_df, new_row])\n",
    "    \n",
    "    return _genres_df\n",
    "\n",
    "genres_df = get_genre_df(money_and_info_df)\n",
    "best_genres_df = get_genre_df(best_df)"
   ]
  },
  {
   "cell_type": "code",
   "execution_count": 559,
   "id": "6e0023b5",
   "metadata": {},
   "outputs": [
    {
     "name": "stdout",
     "output_type": "stream",
     "text": [
      "ALL\n",
      "                              worldwide_ROI\n",
      "genre                                     \n",
      "Animation                         1.433886\n",
      "Sports and Fitness                1.324828\n",
      "Musical and Performing Arts       1.009514\n",
      "Western                           0.953031\n",
      "Television                        0.910158\n",
      "\n",
      "HIGHEST PERFMORING\n",
      "                     worldwide_ROI\n",
      "genre                            \n",
      "Sports and Fitness      16.114729\n",
      "Animation               15.272461\n",
      "Special Interest        12.786336\n",
      "Kids and Family         11.229174\n",
      "Classics                10.785354\n"
     ]
    }
   ],
   "source": [
    "print(\"ALL\\n\", genres_df.groupby(\"genre\").median().sort_values(\"worldwide_ROI\", ascending=False)[:5])\n",
    "\n",
    "print(\"\\nHIGHEST PERFMORING\\n\", best_genres_df.groupby(\"genre\").median().sort_values(\"worldwide_ROI\", ascending=False)[:5])"
   ]
  },
  {
   "cell_type": "code",
   "execution_count": 560,
   "id": "4a990850",
   "metadata": {},
   "outputs": [
    {
     "name": "stderr",
     "output_type": "stream",
     "text": [
      "/var/folders/cp/k4r1_sbx687dqn2rzgz3t7n40000gn/T/ipykernel_7854/3236445062.py:5: UserWarning: Boolean Series key will be reindexed to match DataFrame index.\n",
      "  movies_df = movies_df[movies_df[\"attributes\"].apply(lambda x: not isinstance(x, str))][movies_df.is_original_title == 1][[\"movie_id\", \"title\"]].dropna().drop_duplicates()\n"
     ]
    }
   ],
   "source": [
    "actors_df = dfs.get(\"movie_people_df\")\n",
    "actors_df = actors_df[actors_df[\"primary_profession\"] == \"actor\"][[\"movie_id\", \"primary_name\"]].dropna().drop_duplicates()\n",
    "\n",
    "movies_df = dfs.get(\"movie_info_df\")\n",
    "movies_df = movies_df[movies_df[\"attributes\"].apply(lambda x: not isinstance(x, str))][movies_df.is_original_title == 1][[\"movie_id\", \"title\"]].dropna().drop_duplicates()\n",
    "\n",
    "actor_movies_df = actors_df.merge(movies_df, on=\"movie_id\", how=\"inner\").rename(columns={\"primary_name\" :\"actor\"})"
   ]
  },
  {
   "cell_type": "code",
   "execution_count": 561,
   "id": "8ac0532e",
   "metadata": {},
   "outputs": [
    {
     "data": {
      "text/html": [
       "<div>\n",
       "<style scoped>\n",
       "    .dataframe tbody tr th:only-of-type {\n",
       "        vertical-align: middle;\n",
       "    }\n",
       "\n",
       "    .dataframe tbody tr th {\n",
       "        vertical-align: top;\n",
       "    }\n",
       "\n",
       "    .dataframe thead th {\n",
       "        text-align: right;\n",
       "    }\n",
       "</style>\n",
       "<table border=\"1\" class=\"dataframe\">\n",
       "  <thead>\n",
       "    <tr style=\"text-align: right;\">\n",
       "      <th></th>\n",
       "      <th>movie_id</th>\n",
       "      <th>primary_name</th>\n",
       "    </tr>\n",
       "  </thead>\n",
       "  <tbody>\n",
       "  </tbody>\n",
       "</table>\n",
       "</div>"
      ],
      "text/plain": [
       "Empty DataFrame\n",
       "Columns: [movie_id, primary_name]\n",
       "Index: []"
      ]
     },
     "execution_count": 561,
     "metadata": {},
     "output_type": "execute_result"
    }
   ],
   "source": [
    "# The IMDB data is terrible and no conclusions should be drawn using it.\n",
    "actors_df[actors_df.primary_name.isin([\"Christian Bale\", \"Tom Hanks\", \"Tom Cruise\", \"Morgan Freeman\", \"Ryan Gosling\", \"Dwayne Johnson\", \"Scarlett Johansson\"])] # garbage  "
   ]
  },
  {
   "cell_type": "code",
   "execution_count": 562,
   "id": "38883aa5",
   "metadata": {},
   "outputs": [
    {
     "data": {
      "text/html": [
       "<div>\n",
       "<style scoped>\n",
       "    .dataframe tbody tr th:only-of-type {\n",
       "        vertical-align: middle;\n",
       "    }\n",
       "\n",
       "    .dataframe tbody tr th {\n",
       "        vertical-align: top;\n",
       "    }\n",
       "\n",
       "    .dataframe thead th {\n",
       "        text-align: right;\n",
       "    }\n",
       "</style>\n",
       "<table border=\"1\" class=\"dataframe\">\n",
       "  <thead>\n",
       "    <tr style=\"text-align: right;\">\n",
       "      <th></th>\n",
       "      <th>worldwide_ROI</th>\n",
       "    </tr>\n",
       "    <tr>\n",
       "      <th>actor</th>\n",
       "      <th></th>\n",
       "    </tr>\n",
       "  </thead>\n",
       "  <tbody>\n",
       "    <tr>\n",
       "      <th>Costas Mandylor</th>\n",
       "      <td>6.866781</td>\n",
       "    </tr>\n",
       "    <tr>\n",
       "      <th>Rafe Spall</th>\n",
       "      <td>6.681016</td>\n",
       "    </tr>\n",
       "    <tr>\n",
       "      <th>Ty Simpkins</th>\n",
       "      <td>6.669092</td>\n",
       "    </tr>\n",
       "    <tr>\n",
       "      <th>Corey Hawkins</th>\n",
       "      <td>6.220821</td>\n",
       "    </tr>\n",
       "    <tr>\n",
       "      <th>Phi Vu</th>\n",
       "      <td>6.131055</td>\n",
       "    </tr>\n",
       "    <tr>\n",
       "      <th>...</th>\n",
       "      <td>...</td>\n",
       "    </tr>\n",
       "    <tr>\n",
       "      <th>Sergio Peris-Mencheta</th>\n",
       "      <td>-0.994154</td>\n",
       "    </tr>\n",
       "    <tr>\n",
       "      <th>Nao Ohmori</th>\n",
       "      <td>-0.995463</td>\n",
       "    </tr>\n",
       "    <tr>\n",
       "      <th>Trieu Tran</th>\n",
       "      <td>-0.997398</td>\n",
       "    </tr>\n",
       "    <tr>\n",
       "      <th>Nandu Madhav</th>\n",
       "      <td>-0.997552</td>\n",
       "    </tr>\n",
       "    <tr>\n",
       "      <th>Joost Bolt</th>\n",
       "      <td>-0.999172</td>\n",
       "    </tr>\n",
       "  </tbody>\n",
       "</table>\n",
       "<p>437 rows × 1 columns</p>\n",
       "</div>"
      ],
      "text/plain": [
       "                       worldwide_ROI\n",
       "actor                               \n",
       "Costas Mandylor             6.866781\n",
       "Rafe Spall                  6.681016\n",
       "Ty Simpkins                 6.669092\n",
       "Corey Hawkins               6.220821\n",
       "Phi Vu                      6.131055\n",
       "...                              ...\n",
       "Sergio Peris-Mencheta      -0.994154\n",
       "Nao Ohmori                 -0.995463\n",
       "Trieu Tran                 -0.997398\n",
       "Nandu Madhav               -0.997552\n",
       "Joost Bolt                 -0.999172\n",
       "\n",
       "[437 rows x 1 columns]"
      ]
     },
     "execution_count": 562,
     "metadata": {},
     "output_type": "execute_result"
    }
   ],
   "source": [
    "actor_value_df = actor_movies_df.merge(money_and_info_df[[\"movie\", \"worldwide_ROI\"]].rename(columns={\"movie\" :\"title\"}), on=\"title\", how=\"inner\")[[\"actor\", \"worldwide_ROI\"]]\n",
    "actor_value_df.groupby(\"actor\").median().sort_values(\"worldwide_ROI\", ascending=False)"
   ]
  },
  {
   "cell_type": "code",
   "execution_count": 579,
   "id": "c6e4ac4e",
   "metadata": {},
   "outputs": [
    {
     "name": "stdout",
     "output_type": "stream",
     "text": [
      "        worldwide_ROI\n",
      "rating               \n",
      "NR           0.811367\n",
      "PG           0.796266\n",
      "R            0.783617\n",
      "G            0.765591\n",
      "PG-13        0.692662 \n",
      "\n",
      " R        1664\n",
      "NR        984\n",
      "PG        526\n",
      "PG-13     416\n",
      "G         149\n",
      "Name: rating, dtype: int64\n"
     ]
    }
   ],
   "source": [
    "rating_roi_df = money_and_info_df[[\"rating\", \"worldwide_ROI\"]]\n",
    "\n",
    "print(rating_roi_df.groupby(\"rating\").median().sort_values(\"worldwide_ROI\", ascending=False),\"\\n\\n\", rating_roi_df.rating.value_counts())"
   ]
  },
  {
   "cell_type": "code",
   "execution_count": 582,
   "id": "615c24f9",
   "metadata": {},
   "outputs": [
    {
     "data": {
      "text/html": [
       "<div>\n",
       "<style scoped>\n",
       "    .dataframe tbody tr th:only-of-type {\n",
       "        vertical-align: middle;\n",
       "    }\n",
       "\n",
       "    .dataframe tbody tr th {\n",
       "        vertical-align: top;\n",
       "    }\n",
       "\n",
       "    .dataframe thead th {\n",
       "        text-align: right;\n",
       "    }\n",
       "</style>\n",
       "<table border=\"1\" class=\"dataframe\">\n",
       "  <thead>\n",
       "    <tr style=\"text-align: right;\">\n",
       "      <th></th>\n",
       "      <th>production_budget</th>\n",
       "      <th>worldwide_ROI</th>\n",
       "    </tr>\n",
       "  </thead>\n",
       "  <tbody>\n",
       "    <tr>\n",
       "      <th>749</th>\n",
       "      <td>69000000</td>\n",
       "      <td>6.876298</td>\n",
       "    </tr>\n",
       "    <tr>\n",
       "      <th>134</th>\n",
       "      <td>160000000</td>\n",
       "      <td>6.869998</td>\n",
       "    </tr>\n",
       "    <tr>\n",
       "      <th>1378</th>\n",
       "      <td>40000000</td>\n",
       "      <td>6.867743</td>\n",
       "    </tr>\n",
       "    <tr>\n",
       "      <th>2878</th>\n",
       "      <td>17000000</td>\n",
       "      <td>6.866781</td>\n",
       "    </tr>\n",
       "    <tr>\n",
       "      <th>3552</th>\n",
       "      <td>10000000</td>\n",
       "      <td>6.861077</td>\n",
       "    </tr>\n",
       "    <tr>\n",
       "      <th>...</th>\n",
       "      <td>...</td>\n",
       "      <td>...</td>\n",
       "    </tr>\n",
       "    <tr>\n",
       "      <th>2480</th>\n",
       "      <td>21000000</td>\n",
       "      <td>-0.999172</td>\n",
       "    </tr>\n",
       "    <tr>\n",
       "      <th>1242</th>\n",
       "      <td>46500000</td>\n",
       "      <td>-0.999521</td>\n",
       "    </tr>\n",
       "    <tr>\n",
       "      <th>2152</th>\n",
       "      <td>26000000</td>\n",
       "      <td>-0.999808</td>\n",
       "    </tr>\n",
       "    <tr>\n",
       "      <th>3818</th>\n",
       "      <td>9000000</td>\n",
       "      <td>-0.999862</td>\n",
       "    </tr>\n",
       "    <tr>\n",
       "      <th>4081</th>\n",
       "      <td>6600000</td>\n",
       "      <td>-0.999875</td>\n",
       "    </tr>\n",
       "  </tbody>\n",
       "</table>\n",
       "<p>3779 rows × 2 columns</p>\n",
       "</div>"
      ],
      "text/plain": [
       "      production_budget  worldwide_ROI\n",
       "749            69000000       6.876298\n",
       "134           160000000       6.869998\n",
       "1378           40000000       6.867743\n",
       "2878           17000000       6.866781\n",
       "3552           10000000       6.861077\n",
       "...                 ...            ...\n",
       "2480           21000000      -0.999172\n",
       "1242           46500000      -0.999521\n",
       "2152           26000000      -0.999808\n",
       "3818            9000000      -0.999862\n",
       "4081            6600000      -0.999875\n",
       "\n",
       "[3779 rows x 2 columns]"
      ]
     },
     "execution_count": 582,
     "metadata": {},
     "output_type": "execute_result"
    }
   ],
   "source": [
    "money_and_info_df[[\"production_budget\", \"worldwide_ROI\"]]"
   ]
  },
  {
   "cell_type": "code",
   "execution_count": 586,
   "id": "4406589f",
   "metadata": {},
   "outputs": [
    {
     "name": "stdout",
     "output_type": "stream",
     "text": [
      "[-100, -90, -80, -70, -60, -50, -40, -30, -20, -10, 0, 10, 20, 30, 40, 50, 60, 70, 80, 90, 100]\n",
      "[-1.0, -0.9, -0.8, -0.7, -0.6, -0.5, -0.4, -0.3, -0.2, -0.1, 0.0, 0.1, 0.2, 0.3, 0.4, 0.5, 0.6, 0.7, 0.8, 0.9, 1.0]\n"
     ]
    }
   ],
   "source": [
    "def normalize(value, min, max):\n",
    "    return (value - min) / (max - min)\n",
    "\n",
    "x = range(-100, 110, 10)\n",
    "print(list(x))\n",
    "# \n",
    "\n",
    "y = [num / max(x) for num in x]\n",
    "print(y)"
   ]
  },
  {
   "cell_type": "code",
   "execution_count": null,
   "id": "6cea066d",
   "metadata": {},
   "outputs": [],
   "source": []
  }
 ],
 "metadata": {
  "kernelspec": {
   "display_name": "Python 3.10.6 64-bit",
   "language": "python",
   "name": "python3"
  },
  "language_info": {
   "codemirror_mode": {
    "name": "ipython",
    "version": 3
   },
   "file_extension": ".py",
   "mimetype": "text/x-python",
   "name": "python",
   "nbconvert_exporter": "python",
   "pygments_lexer": "ipython3",
   "version": "3.10.6"
  },
  "vscode": {
   "interpreter": {
    "hash": "aee8b7b246df8f9039afb4144a1f6fd8d2ca17a180786b69acc140d282b71a49"
   }
  }
 },
 "nbformat": 4,
 "nbformat_minor": 5
}
