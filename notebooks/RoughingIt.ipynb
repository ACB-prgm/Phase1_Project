{
 "cells": [
  {
   "cell_type": "code",
   "execution_count": 105,
   "id": "b50aa566",
   "metadata": {},
   "outputs": [],
   "source": [
    "import os\n",
    "import sqlite3\n",
    "import pandas as pd\n",
    "from zipfile import ZipFile\n",
    "from matplotlib import pyplot as plt"
   ]
  },
  {
   "cell_type": "code",
   "execution_count": 106,
   "id": "5680cb54",
   "metadata": {},
   "outputs": [],
   "source": [
    "BASE_DIR = os.path.abspath(os.path.join(os.getcwd(), '..'))\n",
    "ZIPPED_DATA_DIR = os.path.join(BASE_DIR, \"zippedData\")"
   ]
  },
  {
   "cell_type": "code",
   "execution_count": 141,
   "id": "a4f33435",
   "metadata": {},
   "outputs": [
    {
     "name": "stdout",
     "output_type": "stream",
     "text": [
      "'unicodeescape' codec can't decode bytes in position 108-109: malformed \\N character escape title.akas.tsv\n"
     ]
    }
   ],
   "source": [
    "dfs = {}\n",
    "\n",
    "sql_db_file = \"im.db\"\n",
    "movie_info_q = \"\"\"\n",
    "        SELECT * FROM principals\n",
    "        JOIN movie_ratings USING(movie_id)\n",
    "        JOIN movie_akas USING(movie_id)\n",
    "        ;\"\"\"\n",
    "movie_people_q = \"\"\"\n",
    "        SELECT *\n",
    "        FROM principals\n",
    "        JOIN persons USING(person_id)\n",
    "        ;\"\"\"\n",
    "\n",
    "with ZipFile(os.path.join(ZIPPED_DATA_DIR, f\"{sql_db_file}.zip\"), 'r') as zip:\n",
    "    zip.extract(sql_db_file)\n",
    "\n",
    "    conn = sqlite3.connect(sql_db_file)\n",
    "    \n",
    "    dfs[\"movie_info_df\"] = pd.read_sql(movie_info_q, conn)\n",
    "    dfs[\"movie_people_df\"] = pd.read_sql(movie_people_q, conn)\n",
    "\n",
    "    os.remove(sql_db_file)\n",
    "\n",
    "\n",
    "for file_name in os.listdir(ZIPPED_DATA_DIR):\n",
    "    if not file_name in [sql_db_file + \".zip\", \".DS_Store\"]:\n",
    "        sep = \"\\t\" if \"tsv\" in file_name else \",\"\n",
    "        try:\n",
    "            dfs[file_name.split(\".\")[-3]] = pd.read_csv(os.path.join(ZIPPED_DATA_DIR, file_name), sep=sep, encoding=\"unicode_escape\")\n",
    "        except Exception as e:\n",
    "            print(e, file_name)"
   ]
  },
  {
   "cell_type": "code",
   "execution_count": 171,
   "metadata": {},
   "outputs": [
    {
     "data": {
      "text/plain": [
       "dict_keys(['movie_info_df', 'movie_people_df', 'movies', 'reviews', 'movie_info', 'movie_budgets', 'movie_gross'])"
      ]
     },
     "execution_count": 171,
     "metadata": {},
     "output_type": "execute_result"
    }
   ],
   "source": [
    "dfs.keys()"
   ]
  },
  {
   "cell_type": "code",
   "execution_count": 174,
   "id": "8d582972",
   "metadata": {},
   "outputs": [
    {
     "name": "stdout",
     "output_type": "stream",
     "text": [
      "Index(['movie_id', 'ordering', 'person_id', 'category', 'job', 'characters',\n",
      "       'averagerating', 'numvotes', 'ordering', 'title', 'region', 'language',\n",
      "       'types', 'attributes', 'is_original_title'],\n",
      "      dtype='object')\n",
      "Index(['movie_id', 'ordering', 'person_id', 'category', 'job', 'characters',\n",
      "       'primary_name', 'birth_year', 'death_year', 'primary_profession'],\n",
      "      dtype='object')\n",
      "Index(['Unnamed: 0', 'genre_ids', 'id', 'original_language', 'original_title',\n",
      "       'popularity', 'release_date', 'title', 'vote_average', 'vote_count'],\n",
      "      dtype='object')\n",
      "Index(['id', 'review', 'rating', 'fresh', 'critic', 'top_critic', 'publisher',\n",
      "       'date'],\n",
      "      dtype='object')\n",
      "Index(['id', 'synopsis', 'rating', 'genre', 'director', 'writer',\n",
      "       'theater_date', 'dvd_date', 'currency', 'box_office', 'runtime',\n",
      "       'studio'],\n",
      "      dtype='object')\n",
      "Index(['id', 'release_date', 'movie', 'production_budget', 'domestic_gross',\n",
      "       'worldwide_gross'],\n",
      "      dtype='object')\n",
      "Index(['title', 'studio', 'domestic_gross', 'foreign_gross', 'year'], dtype='object')\n"
     ]
    }
   ],
   "source": [
    "for df in dfs:\n",
    "    print(dfs.get(df).columns)"
   ]
  },
  {
   "cell_type": "code",
   "execution_count": null,
   "id": "d6e40c86",
   "metadata": {},
   "outputs": [],
   "source": []
  }
 ],
 "metadata": {
  "kernelspec": {
   "display_name": "Python 3.10.6 64-bit",
   "language": "python",
   "name": "python3"
  },
  "language_info": {
   "codemirror_mode": {
    "name": "ipython",
    "version": 3
   },
   "file_extension": ".py",
   "mimetype": "text/x-python",
   "name": "python",
   "nbconvert_exporter": "python",
   "pygments_lexer": "ipython3",
   "version": "3.10.6"
  },
  "vscode": {
   "interpreter": {
    "hash": "aee8b7b246df8f9039afb4144a1f6fd8d2ca17a180786b69acc140d282b71a49"
   }
  }
 },
 "nbformat": 4,
 "nbformat_minor": 5
}
